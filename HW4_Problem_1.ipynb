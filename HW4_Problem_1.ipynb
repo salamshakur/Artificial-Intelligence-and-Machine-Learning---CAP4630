{
  "nbformat": 4,
  "nbformat_minor": 0,
  "metadata": {
    "colab": {
      "name": "HW4 Problem 1.ipynb",
      "provenance": [],
      "collapsed_sections": [],
      "authorship_tag": "ABX9TyP7Dmf1Pv/Tm1+wpVbb0xda",
      "include_colab_link": true
    },
    "kernelspec": {
      "name": "python3",
      "display_name": "Python 3"
    }
  },
  "cells": [
    {
      "cell_type": "markdown",
      "metadata": {
        "id": "view-in-github",
        "colab_type": "text"
      },
      "source": [
        "<a href=\"https://colab.research.google.com/github/salamshakur/CAP4630-Artificial-Intelligence-UCF/blob/master/HW4_Problem_1.ipynb\" target=\"_parent\"><img src=\"https://colab.research.google.com/assets/colab-badge.svg\" alt=\"Open In Colab\"/></a>"
      ]
    },
    {
      "cell_type": "markdown",
      "metadata": {
        "id": "_C5p-w0qVo7g",
        "colab_type": "text"
      },
      "source": [
        "# Problem #1\n",
        "\n",
        "\n",
        "---\n",
        "\n"
      ]
    },
    {
      "cell_type": "markdown",
      "metadata": {
        "id": "cJJOBbg-AQ6j",
        "colab_type": "text"
      },
      "source": [
        "Imported Libraries"
      ]
    },
    {
      "cell_type": "code",
      "metadata": {
        "id": "aJuirBdRfUyO",
        "colab_type": "code",
        "colab": {}
      },
      "source": [
        "import numpy as np\n",
        "import math"
      ],
      "execution_count": 0,
      "outputs": []
    },
    {
      "cell_type": "markdown",
      "metadata": {
        "id": "xpTi6gbSAYEX",
        "colab_type": "text"
      },
      "source": [
        "Custom Exception Classes"
      ]
    },
    {
      "cell_type": "code",
      "metadata": {
        "id": "501xTN9Z8WN4",
        "colab_type": "code",
        "colab": {}
      },
      "source": [
        "class IsNotSquareMatrix(Exception):\n",
        "  def __init__(self, msg):\n",
        "    super().__init__(msg)\n",
        "class IsNotCorrectType(Exception):\n",
        "  def __init__(self, msg):\n",
        "    super().__init__(msg)\n",
        "class KernalLargerThanInput(Exception):\n",
        "  def __init__(self, msg):\n",
        "    super().__init__(msg) "
      ],
      "execution_count": 0,
      "outputs": []
    },
    {
      "cell_type": "markdown",
      "metadata": {
        "id": "Z4prQhsxAzXV",
        "colab_type": "text"
      },
      "source": [
        "Custom Test Case Function"
      ]
    },
    {
      "cell_type": "code",
      "metadata": {
        "id": "CZLNoL9EddW3",
        "colab_type": "code",
        "colab": {}
      },
      "source": [
        "def testConv():\n",
        "  from scipy import signal\n",
        "\n",
        "  input_mat = []\n",
        "  kernel_mat = []\n",
        "  expected_mat = []\n",
        "\n",
        "  # test case 1\n",
        "  input_mat.append(np.array([[1, 2, 1, 2],\n",
        "                             [2, 1, 2, 1],\n",
        "                             [1, 2, 1, 2],\n",
        "                             [2, 1, 2, 1]]))\n",
        "\n",
        "  kernel_mat.append(np.array([[1, 0],\n",
        "                              [0, 1]]))\n",
        "\n",
        "  expected_mat.append(np.array([[2, 4, 2],\n",
        "                                [4, 2, 4],\n",
        "                                [2, 4, 2]]))\n",
        "\n",
        "  # test case 2\n",
        "  input_mat.append(np.array([[1, 0, 0, 0],\n",
        "                             [0, 1, 0, 0],\n",
        "                             [0, 0, 1, 0],\n",
        "                             [0, 0, 0, 1]]))\n",
        "  \n",
        "  kernel_mat.append(np.array([[1, 0], \n",
        "                              [0, 1]]))\n",
        "  \n",
        "  expected_mat.append(np.array([[2, 0, 0], \n",
        "                                [0, 2, 0], \n",
        "                                [0, 0, 2]]))\n",
        "\n",
        "\n",
        "  # test case 3\n",
        "  input_mat.append(np.array([[1, 0, 0, 0],\n",
        "                             [0, 1, 0, 0],\n",
        "                             [0, 0, 1, 0],\n",
        "                             [0, 0, 0, 1]]))\n",
        "  \n",
        "  kernel_mat.append(np.array([[1, -1],\n",
        "                              [-1, 0]]))\n",
        "\n",
        "  expected_mat.append(np.array([[ 1, -1,  0],\n",
        "                                [-1,  1, -1],\n",
        "                                [ 0, -1,  1]]))\n",
        "\n",
        "  # test case 5 - should either through an error, or return empty matrix\n",
        "  input_mat.append(np.array([[1, -1],\n",
        "                             [-1, 0]]))\n",
        "  \n",
        "  kernel_mat.append(np.array([[1, 0, 0, 0],\n",
        "                              [0, 1, 0, 0],\n",
        "                              [0, 0, 1, 0],\n",
        "                              [0, 0, 0, 1]]))\n",
        "\n",
        "  expected_mat.append([])\n",
        "\n",
        "  # test case 4\n",
        "  input_mat.append(np.array([[1, 0, 0, 0],\n",
        "                             [0, 1, 0, 0],\n",
        "                             [0, 0, 1, 0],\n",
        "                             [0, 0, 0, 1]]))\n",
        "  \n",
        "  kernel_mat.append(np.array([[1, 0, 0, 0],\n",
        "                              [0, 1, 0, 0],\n",
        "                              [0, 0, 1, 0],\n",
        "                              [0, 0, 0, 1]]))\n",
        "\n",
        "  expected_mat.append(np.array([[4]]))\n",
        "\n",
        "\n",
        "  for i in range(len(input_mat)):\n",
        "\n",
        "    # if input_mat[i].shape[0] < kernel_mat[i].shape[0]:\n",
        "    #   output_mat = []\n",
        "    # else:\n",
        "    #   output_mat = signal.convolve2d(input_mat[i], kernel_mat[i], mode='valid')\n",
        "\n",
        "    output_mat = conv2d(input_mat[i], kernel_mat[i])\n",
        "    print(output_mat)\n",
        "\n",
        "    if np.array_equal(output_mat, expected_mat[i]):\n",
        "      print(\"Correct output!\\n\")\n",
        "    else:\n",
        "      print(\"Incorrect output on test case\", i, \"!\\n\")"
      ],
      "execution_count": 0,
      "outputs": []
    },
    {
      "cell_type": "markdown",
      "metadata": {
        "id": "7y9X4Uv-V_8e",
        "colab_type": "text"
      },
      "source": [
        "The Convolution2D problem for this assignment"
      ]
    },
    {
      "cell_type": "code",
      "metadata": {
        "id": "oRx0MxA6hFHF",
        "colab_type": "code",
        "colab": {}
      },
      "source": [
        "def conv2d(input_mat, kernel_mat):\n",
        "\n",
        "  # check if data is correct type\n",
        "  if type(input_mat) is not np.ndarray:\n",
        "    raise IsNotCorrectType ('Input matrix is not an ndarray!')\n",
        "    return []\n",
        "  elif type(kernel_mat) is not np.ndarray:\n",
        "    raise IsNotCorrectType ('Kernel matrix is not an ndarray!')\n",
        "    return []\n",
        "\n",
        "  # check if square \n",
        "  if len(input_mat.shape) != 2 or input_mat.shape[0] != input_mat.shape[1]:\n",
        "    raise IsNotSquareMatrix('Input matrix is not a square matrix!')\n",
        "    return []\n",
        "  elif len(kernel_mat.shape) != 2 or kernel_mat.shape[0] != kernel_mat.shape[1]:\n",
        "    raise IsNotSquareMatrix('Kernel matrix is not a square matrix!')\n",
        "    return []\n",
        "\n",
        "  # get the n of input and kernal\n",
        "  inputN  = input_mat.shape[0]\n",
        "  kernelN = kernel_mat.shape[0]\n",
        "\n",
        "  # check that kernal is smaller or equal to input\n",
        "  if kernelN > inputN:\n",
        "    raise KernalLargerThanInput('Kernel must be smaller or equal to input matrix!')\n",
        "    return []\n",
        "\n",
        "  # rotate kernel 180\n",
        "  kernel_mat = np.rot90(kernel_mat, 2)\n",
        "\n",
        "  # get the n of the output\n",
        "  outputN = inputN - kernelN + 1\n",
        "  \n",
        "  # create the n x n output matrix\n",
        "  output_mat = np.zeros((outputN, outputN))\n",
        "\n",
        "  # perform element-wise multiplication on input and kernal\n",
        "  for i, row in enumerate(output_mat):\n",
        "    for j, col in enumerate(row):\n",
        "        output_mat[i, j] = (np.multiply(kernel_mat, input_mat[i:i+kernelN, j:j+kernelN]).sum())\n",
        "\n",
        "    \n",
        "  return output_mat"
      ],
      "execution_count": 0,
      "outputs": []
    },
    {
      "cell_type": "markdown",
      "metadata": {
        "id": "hH2wlvMwBFWG",
        "colab_type": "text"
      },
      "source": [
        "Testing the Convolution function"
      ]
    },
    {
      "cell_type": "code",
      "metadata": {
        "id": "-VU6Con1gzTp",
        "colab_type": "code",
        "colab": {}
      },
      "source": [
        "testConv()"
      ],
      "execution_count": 0,
      "outputs": []
    }
  ]
}