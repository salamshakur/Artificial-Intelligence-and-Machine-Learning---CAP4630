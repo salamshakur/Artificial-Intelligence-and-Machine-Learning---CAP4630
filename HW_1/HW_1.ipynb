{
  "nbformat": 4,
  "nbformat_minor": 0,
  "metadata": {
    "colab": {
      "name": "HW_1",
      "provenance": [],
      "collapsed_sections": [],
      "authorship_tag": "ABX9TyNJSExjNyjjCz1tu5djXmqW",
      "include_colab_link": true
    },
    "kernelspec": {
      "name": "python3",
      "display_name": "Python 3"
    }
  },
  "cells": [
    {
      "cell_type": "markdown",
      "metadata": {
        "id": "view-in-github",
        "colab_type": "text"
      },
      "source": [
        "<a href=\"https://colab.research.google.com/github/salamshakur/CAP4630-Artificial-Intelligence-UCF/blob/master/HW_1/HW_1.ipynb\" target=\"_parent\"><img src=\"https://colab.research.google.com/assets/colab-badge.svg\" alt=\"Open In Colab\"/></a>"
      ]
    },
    {
      "cell_type": "markdown",
      "metadata": {
        "id": "1u8GjiH_NqfF",
        "colab_type": "text"
      },
      "source": [
        "Imports & Libraries"
      ]
    },
    {
      "cell_type": "code",
      "metadata": {
        "id": "R1Tg6P5BNw49",
        "colab_type": "code",
        "colab": {}
      },
      "source": [
        "import numpy as np"
      ],
      "execution_count": 0,
      "outputs": []
    },
    {
      "cell_type": "markdown",
      "metadata": {
        "id": "132e2t6dN1t1",
        "colab_type": "text"
      },
      "source": [
        "Function that takes as input a list of matrices, multiplies them, and output their product:\n",
        "\n",
        "\\begin{equation*} \n",
        "  A_{m \\times n} \\space \\boldsymbol{\\cdot} \\space B_{n \\times m}\n",
        "\\end{equation*}\n",
        "\n",
        "In order for two matrices to be compatible, both of their ***n's*** must be equal.\n",
        "\n"
      ]
    },
    {
      "cell_type": "code",
      "metadata": {
        "id": "w0h1K414M7KW",
        "colab_type": "code",
        "colab": {}
      },
      "source": [
        "def mutiply_matrices(list):\n",
        "\n",
        "    i, j, res, size, err = 0, 0, list[0], len(list) - 1, False\n",
        "\n",
        "    try:\n",
        "        while j < (len(list) - 1):\n",
        "            j = i + 1\n",
        "            res = np.dot(res, list[j])\n",
        "            i += 1\n",
        "    except ValueError:\n",
        "        print(\"Incompatible matrices: Matrix \" + str(i) + \" & Matrix \" + str(j))\n",
        "        return\n",
        "\n",
        "    print(res)"
      ],
      "execution_count": 0,
      "outputs": []
    }
  ]
}