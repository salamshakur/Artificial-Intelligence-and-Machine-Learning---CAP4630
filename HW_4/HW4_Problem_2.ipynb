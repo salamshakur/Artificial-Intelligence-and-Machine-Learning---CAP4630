{
  "nbformat": 4,
  "nbformat_minor": 0,
  "metadata": {
    "colab": {
      "name": "HW4 Problem 2.ipynb",
      "provenance": [],
      "collapsed_sections": [],
      "authorship_tag": "ABX9TyNucwquPxsDpUv1+pTIGt2t",
      "include_colab_link": true
    },
    "kernelspec": {
      "name": "python3",
      "display_name": "Python 3"
    }
  },
  "cells": [
    {
      "cell_type": "markdown",
      "metadata": {
        "id": "view-in-github",
        "colab_type": "text"
      },
      "source": [
        "<a href=\"https://colab.research.google.com/github/salamshakur/CAP4630-Artificial-Intelligence-UCF/blob/master/HW4_Problem_2.ipynb\" target=\"_parent\"><img src=\"https://colab.research.google.com/assets/colab-badge.svg\" alt=\"Open In Colab\"/></a>"
      ]
    },
    {
      "cell_type": "markdown",
      "metadata": {
        "id": "Z5ztDmP7Ws5U",
        "colab_type": "text"
      },
      "source": [
        "# Problem #2\n",
        "\n",
        "\n",
        "---\n",
        "\n"
      ]
    },
    {
      "cell_type": "markdown",
      "metadata": {
        "id": "cJJOBbg-AQ6j",
        "colab_type": "text"
      },
      "source": [
        "Imported Libraries"
      ]
    },
    {
      "cell_type": "code",
      "metadata": {
        "id": "aJuirBdRfUyO",
        "colab_type": "code",
        "colab": {}
      },
      "source": [
        "import numpy as np\n",
        "import math"
      ],
      "execution_count": 0,
      "outputs": []
    },
    {
      "cell_type": "markdown",
      "metadata": {
        "id": "xpTi6gbSAYEX",
        "colab_type": "text"
      },
      "source": [
        "Custom Exception Classes"
      ]
    },
    {
      "cell_type": "code",
      "metadata": {
        "id": "501xTN9Z8WN4",
        "colab_type": "code",
        "colab": {}
      },
      "source": [
        "class IsNotSquareMatrix(Exception):\n",
        "  def __init__(self, msg):\n",
        "    super().__init__(msg)\n",
        "class IsNotCorrectType(Exception):\n",
        "  def __init__(self, msg):\n",
        "    super().__init__(msg)\n",
        "class KernalLargerThanInput(Exception):\n",
        "  def __init__(self, msg):\n",
        "    super().__init__(msg) "
      ],
      "execution_count": 0,
      "outputs": []
    },
    {
      "cell_type": "markdown",
      "metadata": {
        "id": "Z4prQhsxAzXV",
        "colab_type": "text"
      },
      "source": [
        "Custom Test Case Functions"
      ]
    },
    {
      "cell_type": "code",
      "metadata": {
        "id": "tQ6c5E20jNnH",
        "colab_type": "code",
        "colab": {}
      },
      "source": [
        "def testMax():\n",
        "  import skimage.measure\n",
        "\n",
        "  input_mat = []\n",
        "  expected_mat = []\n",
        "  s = []\n",
        "\n",
        "  # test case 1\n",
        "  input_mat.append(np.array([[1, 2, 1, 2],\n",
        "                             [2, 4, 2, 1],\n",
        "                             [1, 2, 4, 2],\n",
        "                             [2, 1, 2, 1]]))\n",
        "  s.append(2)\n",
        "\n",
        "  expected_mat.append(np.array([[4, 2],\n",
        "                                [2, 4]]))\n",
        "\n",
        "  # test case 2\n",
        "  input_mat.append(np.array([[1, 2, 1, 2, 4, 5],\n",
        "                             [2, 4, 2, 1, 0, 3],\n",
        "                             [1, 2, 4, 2, 4, 5],\n",
        "                             [2, 1, 2, 1, 2, 1],\n",
        "                             [1, 1, 2, 3, 1, 2]]))\n",
        "  s.append(2)\n",
        "\n",
        "  expected_mat.append([[4, 2, 5],\n",
        "                       [2, 4, 5],\n",
        "                       [1, 3, 2]])\n",
        "\n",
        "\n",
        "  for i in range(len(input_mat)):\n",
        "\n",
        "    # output_mat = skimage.measure.block_reduce(input_mat[i], (s[i],s[i]), np.max)\n",
        "\n",
        "    output_mat = maxpooling2d(input_mat[i], s[i])\n",
        "    print(output_mat)\n",
        "\n",
        "    if np.array_equal(output_mat, expected_mat[i]):\n",
        "      print(\"Correct output!\")\n",
        "    else:\n",
        "      print(\"Incorrect output on test case\", i, \"!\\n\")\n"
      ],
      "execution_count": 0,
      "outputs": []
    },
    {
      "cell_type": "code",
      "metadata": {
        "id": "JyIVoMmt3aVh",
        "colab_type": "code",
        "colab": {}
      },
      "source": [
        "def maxpooling2d(input_mat, s):\n",
        "\n",
        "  # check if input is square\n",
        "  if len(input_mat.shape) != 2 or input_mat.shape[0] != input_mat.shape[1]:\n",
        "    raise IsNotSquareMatrix('Input matrix is not a square matrix!')\n",
        "    return []\n",
        "\n",
        "  # else check if s is within the size of input's n\n",
        "  elif s > input_mat.shape[0]:\n",
        "    raise KernalLargerThanInput('Kernel must be smaller or equal to input matrix!')\n",
        "    return []\n",
        "  \n",
        "  # get the n of input and create kernal\n",
        "  inputN      = input_mat.shape[0]\n",
        "  kernel_mat  = np.zeros((s, s))\n",
        "\n",
        "  # create output\n",
        "  outputN    = math.floor((inputN - s) / 2) + 1 \n",
        "  output_mat = np.zeros((outputN, outputN))\n",
        "  \n",
        "  # find the max element in sub matrix\n",
        "  for i in range(0, outputN+s, s):\n",
        "    for j in range(0, outputN+s, s):\n",
        "        n = round(i/s)\n",
        "        m = round(j/s)\n",
        "        output_mat[n, m] = (np.max(input_mat[i:i+outputN, j:j+outputN]))\n",
        "        \n",
        "\n",
        "  return output_mat"
      ],
      "execution_count": 0,
      "outputs": []
    },
    {
      "cell_type": "markdown",
      "metadata": {
        "id": "hH2wlvMwBFWG",
        "colab_type": "text"
      },
      "source": [
        "Testing the Maxpooling functions"
      ]
    },
    {
      "cell_type": "code",
      "metadata": {
        "id": "ATWfSkw-s3oz",
        "colab_type": "code",
        "colab": {}
      },
      "source": [
        "testMax()"
      ],
      "execution_count": 0,
      "outputs": []
    }
  ]
}