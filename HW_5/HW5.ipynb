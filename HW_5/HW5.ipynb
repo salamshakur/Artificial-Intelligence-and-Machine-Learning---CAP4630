{
  "nbformat": 4,
  "nbformat_minor": 0,
  "metadata": {
    "colab": {
      "name": "HW5.ipynb",
      "provenance": [],
      "collapsed_sections": [
        "JdPuAwCrb8vB",
        "xb5CVczwcHS3",
        "LVrkWXko7jVs",
        "dY5FQQgZeH9H",
        "dXXLQJ6if2Df",
        "HEIxcUoSlQ9f",
        "mW3MSbDU-Gp5",
        "Cg9GuTqsDyEr",
        "z-6s6ml5GoS6",
        "jNLZvEfKHrjg",
        "ugMU08XKfop-",
        "ot6Zf6DN2951",
        "H__HBDY8JfmC",
        "TwKbmMDUSqXb",
        "Aizlu27NYuYR"
      ],
      "authorship_tag": "ABX9TyOLbaWYPRyfZ8hqyg7e92r4",
      "include_colab_link": true
    },
    "kernelspec": {
      "name": "python3",
      "display_name": "Python 3"
    }
  },
  "cells": [
    {
      "cell_type": "markdown",
      "metadata": {
        "id": "view-in-github",
        "colab_type": "text"
      },
      "source": [
        "<a href=\"https://colab.research.google.com/github/salamshakur/CAP4630-Artificial-Intelligence-UCF/blob/master/HW5/HW5.ipynb\" target=\"_parent\"><img src=\"https://colab.research.google.com/assets/colab-badge.svg\" alt=\"Open In Colab\"/></a>"
      ]
    },
    {
      "cell_type": "markdown",
      "metadata": {
        "id": "JdPuAwCrb8vB",
        "colab_type": "text"
      },
      "source": [
        "# General Concepts\n",
        "\n",
        "\n",
        "---\n",
        "\n"
      ]
    },
    {
      "cell_type": "markdown",
      "metadata": {
        "id": "xb5CVczwcHS3",
        "colab_type": "text"
      },
      "source": [
        "## Section 1. What is Artificial Intelligence?"
      ]
    },
    {
      "cell_type": "markdown",
      "metadata": {
        "id": "EZtRcBpmcT1G",
        "colab_type": "text"
      },
      "source": [
        "When we think about artificial intelligence, what are the first things that pop into our heads? Robots? Simulations come to life? Sentient beings derived from technology? Or are our thoughts more practical, focusing towards the new tech era such as virtual assistants where you have Google Home and Amazon Alexa?"
      ]
    },
    {
      "cell_type": "markdown",
      "metadata": {
        "id": "MsZz3EFjdFzM",
        "colab_type": "text"
      },
      "source": [
        "Simply put, artificial intellgience, or A.I. for short, is the branch of Computer Science that deals with simulating inteliigent behavior in computers. Allowing machines the capability to imitate human behaviour via various tasks such as visual perception, speech recognition, decision-making and many more.\n"
      ]
    },
    {
      "cell_type": "markdown",
      "metadata": {
        "id": "LVrkWXko7jVs",
        "colab_type": "text"
      },
      "source": [
        "## Section 2. Examples of Artificial Intelligence"
      ]
    },
    {
      "cell_type": "markdown",
      "metadata": {
        "id": "z9yDfjbI7uQf",
        "colab_type": "text"
      },
      "source": [
        "There are many examples of artificial intelligence out there that majority of us don't realize. As previously mentioned, we have the voice assistants, Google Home and Amazon Alexa. They're artificial intelligence are based upon algorithms such as voice recognition, as well as, using neural networks to generate whole sentences smoothly."
      ]
    },
    {
      "cell_type": "markdown",
      "metadata": {
        "id": "i9VJIiat9KlN",
        "colab_type": "text"
      },
      "source": [
        "However, other examples out there include:\n",
        "\n",
        "\n",
        "\n",
        "*   Google maps that predict the fastest route based upon traffic\n",
        "*   Tesla's self driving cars\n",
        "*   Email spam filters that predicts if an email is spam and removes it\n",
        "*   Plagiarism checkers that check if a student's work was plagiarized\n",
        "*   Social media apps that helps network people and suggest friends\n",
        "\n",
        "And so much more...\n",
        "\n"
      ]
    },
    {
      "cell_type": "markdown",
      "metadata": {
        "id": "dY5FQQgZeH9H",
        "colab_type": "text"
      },
      "source": [
        "## Section 3. The Subsets of Artificial Intelligence"
      ]
    },
    {
      "cell_type": "markdown",
      "metadata": {
        "id": "T61Qm08xedSM",
        "colab_type": "text"
      },
      "source": [
        "Continuing on with this, artificial intelligence can be composed of many subsets, starting from A.I. itself and dives deeper towards the other concepts such as machine learning and even deeper towards deep learning. Think of it like an onion, the outer shell being A.I. that encompasses all the inner rings, those rings being machine and deep learning."
      ]
    },
    {
      "cell_type": "markdown",
      "metadata": {
        "id": "dXXLQJ6if2Df",
        "colab_type": "text"
      },
      "source": [
        "## Section 4. Machine Learning"
      ]
    },
    {
      "cell_type": "markdown",
      "metadata": {
        "id": "d-ZOytGgf7Vs",
        "colab_type": "text"
      },
      "source": [
        "Coined as a \"field of study that gives computer the ability to learn without being explicitly programmed\" by Arther Samuel, machine learning are those programs that adjust themselves throughout their exposure to data."
      ]
    },
    {
      "cell_type": "markdown",
      "metadata": {
        "id": "WLcaN6t7goPr",
        "colab_type": "text"
      },
      "source": [
        "It is said to be similar to a child who was born into the world knowing nothing but adjust its understanding of the world in response to experience."
      ]
    },
    {
      "cell_type": "markdown",
      "metadata": {
        "id": "G1LWVoOMkfje",
        "colab_type": "text"
      },
      "source": [
        "The benefits to this is that machine learning is dynamic and tend to be prone to human errors as it only teaches itself, taking in input as data and output as labels or validations in order to create upon itself the rules and regulations that relates the two."
      ]
    },
    {
      "cell_type": "markdown",
      "metadata": {
        "id": "tlVrdN9ok8lj",
        "colab_type": "text"
      },
      "source": [
        "From these new founded rules, can a machine learning program predict new inputs and derive accurate outputs, allowing for deeper insights to data that may have been far too challenging for humans to handle."
      ]
    },
    {
      "cell_type": "markdown",
      "metadata": {
        "id": "HEIxcUoSlQ9f",
        "colab_type": "text"
      },
      "source": [
        "## Section 5. Deep Learning"
      ]
    },
    {
      "cell_type": "markdown",
      "metadata": {
        "id": "_A5o_gFslUXU",
        "colab_type": "text"
      },
      "source": [
        "A subset of machine learning, deep learning is the capability of performing unsupervised learning via networks from data that is unstructured or unlabeled. However, throughout our course in A.I., our main focus was primarily on machine learning itself and not so much for deep learning, or otherwise known as, deep neural network."
      ]
    },
    {
      "cell_type": "markdown",
      "metadata": {
        "id": "mW3MSbDU-Gp5",
        "colab_type": "text"
      },
      "source": [
        "## Section 6. Supervised/Unsupervised/Reinforcement Learning"
      ]
    },
    {
      "cell_type": "markdown",
      "metadata": {
        "id": "pCIBAIj0-Pn4",
        "colab_type": "text"
      },
      "source": [
        "When it comes to training machine learning programs, there are many paradigms that comes to mind, the two main ones being: Supervised & Unsupervised"
      ]
    },
    {
      "cell_type": "markdown",
      "metadata": {
        "id": "5cKWaHqY-ovl",
        "colab_type": "text"
      },
      "source": [
        "### Supervised Learning"
      ]
    },
    {
      "cell_type": "markdown",
      "metadata": {
        "id": "tvU8ynbR-xfZ",
        "colab_type": "text"
      },
      "source": [
        "Supervised learning is the type of machine learning where the model, the entity that we train and the same entity that will make predictions, are given a labeled traning data to learn from."
      ]
    },
    {
      "cell_type": "markdown",
      "metadata": {
        "id": "nGVGgbUM_HxE",
        "colab_type": "text"
      },
      "source": [
        "When giving data to the model, the data itself will be composed of features that *describes* this data and a label that answers *what* this data is. For example:"
      ]
    },
    {
      "cell_type": "markdown",
      "metadata": {
        "id": "w10UXj6S_tkU",
        "colab_type": "text"
      },
      "source": [
        "A list of features that describes a certain data can be its:\n",
        "\n",
        "*   Height\n",
        "*   Width\n",
        "*   Weight\n",
        "*   Color\n",
        "*   Etc.\n",
        "\n",
        "While the label that answers who these features belongs to can be:\n",
        "\n",
        "\n",
        "*   A cat or type of cat\n",
        "*   A dog or type of dog\n",
        "*   A human or a certain race\n",
        "*   A car or type of car\n",
        "*   Etc.\n"
      ]
    },
    {
      "cell_type": "markdown",
      "metadata": {
        "id": "zb03TIQhAvaX",
        "colab_type": "text"
      },
      "source": [
        "The feeding of features and their corresponding labels into an algorithm is known as training and the relationship that is determined by the algorithm to be the best case between the two is known as the model. Essentially, the key goal to supervised machine learning is to find patterns between data and labels that can be expressed mathematically as a function. "
      ]
    },
    {
      "cell_type": "markdown",
      "metadata": {
        "id": "5GZ770KwBr4n",
        "colab_type": "text"
      },
      "source": [
        "\\begin{equation}\n",
        "  f\\left(x\\right)\\:=\\:\\hat{\\mathbf{y}}\n",
        "\\end{equation}"
      ]
    },
    {
      "cell_type": "markdown",
      "metadata": {
        "id": "5SmFTgCIBikv",
        "colab_type": "text"
      },
      "source": [
        "When the model is ready to predict, an input(s) can then be fed into this new founded function and outputs the prediction. Generally these predictions can be represented as a line, or a type of line that best fits the relationship between the data and the labels. Based on where that data is in conjunction to the line will answer what label this data belongs to."
      ]
    },
    {
      "cell_type": "markdown",
      "metadata": {
        "id": "Cg9GuTqsDyEr",
        "colab_type": "text"
      },
      "source": [
        "### Unsupervised Learning"
      ]
    },
    {
      "cell_type": "markdown",
      "metadata": {
        "id": "kAbN8zoFD7aZ",
        "colab_type": "text"
      },
      "source": [
        "While supervised learning was given labeled data, unsupervised learning is the opposite. Instead, the main goal is to find meaningful patterns in data, that is, *without* a labeled data set."
      ]
    },
    {
      "cell_type": "markdown",
      "metadata": {
        "id": "Qx-2IeKOESTI",
        "colab_type": "text"
      },
      "source": [
        "However, throughout our course in A.I., we focused mainly on supervised learning and not so much on unsupervised learning"
      ]
    },
    {
      "cell_type": "markdown",
      "metadata": {
        "id": "z-6s6ml5GoS6",
        "colab_type": "text"
      },
      "source": [
        "### Reinforcement Learning"
      ]
    },
    {
      "cell_type": "markdown",
      "metadata": {
        "id": "qHQPDEJ6GraY",
        "colab_type": "text"
      },
      "source": [
        "This part of machine learning focuses on *teaching* the model. Basically reward or punish it as it tries to gradually reach its goal. This is more intuned with learning from its experience and rewarded or punished based upon how it handles certain scenarios. This is very similar to how one might teach a child, allowing that child to better understand what to do next time."
      ]
    },
    {
      "cell_type": "markdown",
      "metadata": {
        "id": "AMas_xrBHLoj",
        "colab_type": "text"
      },
      "source": [
        "An example of this is teaching a model on how to beat a video game. You don't provide datasets such as the labeled and unlabled as previously mentioned but rather reinforce its behavior as it progresses throughout the level. Based upon a \"good\" or \"bad\" score, the model itself will adjust in order to reap more points, thus completing the level."
      ]
    },
    {
      "cell_type": "markdown",
      "metadata": {
        "id": "s8SUBnjQHf1-",
        "colab_type": "text"
      },
      "source": [
        "In this course of A.I., however, we weren't taught reinforced learning and mainly focused on supervised."
      ]
    },
    {
      "cell_type": "markdown",
      "metadata": {
        "id": "jNLZvEfKHrjg",
        "colab_type": "text"
      },
      "source": [
        "# Basic Concepts\n",
        "\n",
        "---\n",
        "\n"
      ]
    },
    {
      "cell_type": "markdown",
      "metadata": {
        "id": "BJVz0yfxHy9O",
        "colab_type": "text"
      },
      "source": [
        "When describing a model, or relationship between features and its labels, there are two types:\n",
        "\n",
        "1.   Regression\n",
        "2.   Classification\n",
        "\n",
        "Regression model predicts continuous values such as value of houses based upon their square feet or probabilities.\n",
        "\n",
        "Classification model predicts discrete values such as whether an email is spam or not or whether an image is a dog or cat.\n",
        "\n"
      ]
    },
    {
      "cell_type": "markdown",
      "metadata": {
        "id": "mK3OU3L1KH2X",
        "colab_type": "text"
      },
      "source": [
        "### Linear Regression"
      ]
    },
    {
      "cell_type": "markdown",
      "metadata": {
        "id": "4Ku47Z3YKNKa",
        "colab_type": "text"
      },
      "source": [
        "Linear regression is the *linear* approach to modeling a relationship between the features and the label. This means, that the model is represented by a line. For example:"
      ]
    },
    {
      "cell_type": "code",
      "metadata": {
        "id": "2ZxBoBUAK7Sj",
        "colab_type": "code",
        "colab": {
          "base_uri": "https://localhost:8080/",
          "height": 291
        },
        "outputId": "766802a6-1c6e-4d4e-ac2b-dbd8c401f8a0"
      },
      "source": [
        "import matplotlib.pyplot as plt\n",
        "import numpy as np\n",
        "\n",
        "m = 1\n",
        "b = 0\n",
        "x = np.linspace(0, 10, 1000)\n",
        "y = m * x + b\n",
        "plt.plot(x,y)\n",
        "# plt.grid(False)\n",
        "plt.suptitle('Linear Regression', fontsize=17)\n",
        "plt.show()"
      ],
      "execution_count": 26,
      "outputs": [
        {
          "output_type": "display_data",
          "data": {
            "image/png": "[encoded data removed]",
            "text/plain": [
              "<Figure size 432x288 with 1 Axes>"
            ]
          },
          "metadata": {
            "tags": [],
            "needs_background": "light"
          }
        }
      ]
    },
    {
      "cell_type": "markdown",
      "metadata": {
        "id": "OeOMI15GM59M",
        "colab_type": "text"
      },
      "source": [
        "In linear regression, the linear representation can be mathmatically visualized as so:"
      ]
    },
    {
      "cell_type": "markdown",
      "metadata": {
        "id": "K-I_-4-RNJ5z",
        "colab_type": "text"
      },
      "source": [
        "\\begin{equation}\n",
        "  \\hat{\\mathbf{y}}\\:=\\:b\\:+\\:w_1x_1\n",
        "\\end{equation}\n",
        "\n",
        "$\\hat{\\mathbf{y}}$ is the prediction \\\\\n",
        "$b$ is the bias term \\\\\n",
        "$w_1$ is the weight of the first feature \\\\\n",
        "$x_1$ is the first feature itself \\\\\n",
        "\n",
        "**Note:** A data can have many features and weights, in that case, those attributes will be summed up in a summation that runs through n weights and n features"
      ]
    },
    {
      "cell_type": "markdown",
      "metadata": {
        "id": "BDoDDrwfQ6ua",
        "colab_type": "text"
      },
      "source": [
        "### Logistic Regression"
      ]
    },
    {
      "cell_type": "markdown",
      "metadata": {
        "id": "mydIGR4aRIJ-",
        "colab_type": "text"
      },
      "source": [
        "Logistic regression is the *logistic* approach to modeling a relationship between the features and the label. This means, that the model is represented by a sigmoid function. For example:"
      ]
    },
    {
      "cell_type": "code",
      "metadata": {
        "id": "G5MZ9vGoSJXJ",
        "colab_type": "code",
        "colab": {
          "base_uri": "https://localhost:8080/",
          "height": 291
        },
        "outputId": "7d5af770-37da-4d9c-c3ba-08b826dfa9e1"
      },
      "source": [
        "import matplotlib.pyplot as plt\n",
        "import numpy as np\n",
        "\n",
        "x = np.linspace(-10, 10, 1000)\n",
        "y = 1 / (1 + np.exp(-x))\n",
        "plt.plot(x,y)\n",
        "# plt.grid(False)\n",
        "plt.suptitle('Logistic Regression', fontsize=17)\n",
        "plt.show()"
      ],
      "execution_count": 25,
      "outputs": [
        {
          "output_type": "display_data",
          "data": {
            "image/png": "[encoded data removed]",
            "text/plain": [
              "<Figure size 432x288 with 1 Axes>"
            ]
          },
          "metadata": {
            "tags": [],
            "needs_background": "light"
          }
        }
      ]
    },
    {
      "cell_type": "markdown",
      "metadata": {
        "id": "J74fvPdkSsi1",
        "colab_type": "text"
      },
      "source": [
        "In logistic regression, the sigmoid representation can be mathmatically visualized as so:"
      ]
    },
    {
      "cell_type": "markdown",
      "metadata": {
        "id": "M6V8RKxpUZAg",
        "colab_type": "text"
      },
      "source": [
        "\\begin{equation*}\n",
        "\\sigma \\:\\left(z\\right)=\\frac{1}{1+e^z}\n",
        "\\end{equation*}"
      ]
    },
    {
      "cell_type": "markdown",
      "metadata": {
        "id": "hfIkxu2cTZV9",
        "colab_type": "text"
      },
      "source": [
        "What this allows is that data can now be turned into a binary classification based upon the probability, i.e. the value obtained by the sigmoid function, to determine whether this data can be represented by a 0 class or a 1 class. 0 & 1 meaning 2 labels, such as a cat or a dog. "
      ]
    },
    {
      "cell_type": "markdown",
      "metadata": {
        "id": "bCsvSTeHVeq_",
        "colab_type": "text"
      },
      "source": [
        "### Gradient Descents"
      ]
    },
    {
      "cell_type": "markdown",
      "metadata": {
        "id": "JE8iPacrVhsN",
        "colab_type": "text"
      },
      "source": [
        "As the model progressively tries to fit itself in the best possible way, it undergoes many losses and errors as it compares its predictions to the actual label values. To help minimize these losses and accurately fit the model between the features and labels, the machine learning program will use an iterative trial-and-error algorithm known as gradient descent."
      ]
    },
    {
      "cell_type": "markdown",
      "metadata": {
        "id": "xK_-EKiBX4yK",
        "colab_type": "text"
      },
      "source": [
        "Simply put, the model makes a prediction based on an input and calculates the loss it receives by comparing it to the actual label. From there it updates its parameters to try and get a better prediction. This process is continously repeated until the model ends up with a fit that has the least possible loss."
      ]
    },
    {
      "cell_type": "code",
      "metadata": {
        "id": "VlyfiuEdYYgM",
        "colab_type": "code",
        "colab": {
          "base_uri": "https://localhost:8080/",
          "height": 291
        },
        "outputId": "5dfda354-b775-43e8-a044-23e3e92ffe91"
      },
      "source": [
        "import matplotlib.pyplot as plt\n",
        "import numpy as np\n",
        "\n",
        "x = np.linspace(-10,10, 1000)\n",
        "y = 2.0 * (x - 2.0) ** 2\n",
        "\n",
        "plt.plot(x,y)\n",
        "plt.plot(2, 0, 'ro', label='Minimum')\n",
        "plt.suptitle('Gradient Descent', fontsize=17)\n",
        "# plt.grid(False)\n",
        "plt.legend()\n",
        "plt.show()"
      ],
      "execution_count": 29,
      "outputs": [
        {
          "output_type": "display_data",
          "data": {
            "image/png": "[encoded data removed]",
            "text/plain": [
              "<Figure size 432x288 with 1 Axes>"
            ]
          },
          "metadata": {
            "tags": [],
            "needs_background": "light"
          }
        }
      ]
    },
    {
      "cell_type": "markdown",
      "metadata": {
        "id": "HDF8gF9Jcm9r",
        "colab_type": "text"
      },
      "source": [
        "As shown above, if you were to plot the losses at every iteration, you would form a parabola, where the lowest costly loss would be located at the minimum point. The process of finding this minimum point using a parameter known as the learning rate to determine the rate of finding said point, is known as the gradient descent."
      ]
    },
    {
      "cell_type": "markdown",
      "metadata": {
        "id": "xv7tSm_jdmR-",
        "colab_type": "text"
      },
      "source": [
        "### Types of Gradient Descents"
      ]
    },
    {
      "cell_type": "markdown",
      "metadata": {
        "id": "9YIT4QUUdon7",
        "colab_type": "text"
      },
      "source": [
        "There are essently 3 types of gradient descents:\n",
        "\n",
        "\n",
        "1.   Batch Gradient Descent\n",
        "2.   Stochastic Gradient Descent\n",
        "3.   Mini-Batch Stochastic Gradient Descent\n",
        "\n",
        "Batch Gradient Descent is using a batch, total number of examples to use to calculate the gradient in a single iteration. At times, a batch may be too large and thus computations may take too long.\n",
        "\n",
        "Stochastic Gradient Descent optimizes this by using a batch size of just 1, where the gradient descent only looks at a single example per iteration but chooses so randomly. The con is that a lot of noise is produced using this technique.\n",
        "\n",
        "Mini-Batch Stochastic Gradient Descent reduces this noise by picking a batch size between 10 to 1,000 per iteration.\n",
        "\n"
      ]
    },
    {
      "cell_type": "markdown",
      "metadata": {
        "id": "ugMU08XKfop-",
        "colab_type": "text"
      },
      "source": [
        "# Building a Model\n",
        "\n",
        "---\n",
        "\n"
      ]
    },
    {
      "cell_type": "markdown",
      "metadata": {
        "id": "chcgMBtxjFxG",
        "colab_type": "text"
      },
      "source": [
        "When speaking about a model, the best way of describing what it actually does, is that it takes in input(s) and after undergoing certain calculations and computations, it provides an output(s)"
      ]
    },
    {
      "cell_type": "markdown",
      "metadata": {
        "id": "pWRlSkm4juJn",
        "colab_type": "text"
      },
      "source": [
        "As such, a model can be best represented by the following figure:\n",
        "\n",
        "\n",
        "\n",
        "![alt text](https://miro.medium.com/max/1400/0*hzIQ5Fs-g8iBpVWq.jpg)"
      ]
    },
    {
      "cell_type": "markdown",
      "metadata": {
        "id": "fkkRsfMol-aG",
        "colab_type": "text"
      },
      "source": [
        "As one can see, every model includes an input layer. These layers represents the features $x_n$ that are to be inputed into the model and the edges coming out of each feature are their respective weights $w_n$. Throughout the model, there may be many or none hidden layers, in this case there is 2. The purpose of the hidden layer is to perform mathematical functions designed to produce an output that is specific to the intended results."
      ]
    },
    {
      "cell_type": "markdown",
      "metadata": {
        "id": "gn_5hMtBwXFb",
        "colab_type": "text"
      },
      "source": [
        "As such, each hidden layer can be designed to perform specific functions to produced a wanted output to pass to the next hidden layer or output. These are done through the use of activation records which will be discussed later."
      ]
    },
    {
      "cell_type": "markdown",
      "metadata": {
        "id": "Utl0AA2-wmIC",
        "colab_type": "text"
      },
      "source": [
        "Finally, you have the output layer. It can be one neuron, or more, however this layer defines the label that the input data represents. It is essentially the answer you are trying to receive from this model."
      ]
    },
    {
      "cell_type": "markdown",
      "metadata": {
        "id": "FbEpBFMLxvqP",
        "colab_type": "text"
      },
      "source": [
        "### Keras Example"
      ]
    },
    {
      "cell_type": "markdown",
      "metadata": {
        "id": "XuKn18JQxy3K",
        "colab_type": "text"
      },
      "source": [
        "The nice thing about keras is that it is easy to represent the image above through code as followed:"
      ]
    },
    {
      "cell_type": "code",
      "metadata": {
        "id": "HTCT3SvPx8H6",
        "colab_type": "code",
        "colab": {}
      },
      "source": [
        "from tensorflow.keras.models import Sequential\n",
        "from tensorflow.keras.layers import Dense\n",
        "\n",
        "model = Sequential()\n",
        "# input layer\n",
        "model.add(Dense(12, input_shape=(3,), activation='relu'))\n",
        "# 2 hidden layers\n",
        "model.add(Dense(4, activation='relu'))\n",
        "model.add(Dense(4, activation='relu'))\n",
        "# output layer\n",
        "model.add(Dense(1, activation='sigmoid'))"
      ],
      "execution_count": 0,
      "outputs": []
    },
    {
      "cell_type": "markdown",
      "metadata": {
        "id": "ju_K0hex0L0Q",
        "colab_type": "text"
      },
      "source": [
        "When reading this code, line-by-line, one can see that we start off with an input layer that takes in 3 nodes. From there we have two hidden layers of 4 nodes each, finally outputing to 1 node in the final output layer."
      ]
    },
    {
      "cell_type": "markdown",
      "metadata": {
        "id": "jBfFVAA_2mLT",
        "colab_type": "text"
      },
      "source": [
        "### Convolutional Neural Network"
      ]
    },
    {
      "cell_type": "markdown",
      "metadata": {
        "id": "Gct9eCtK0dI-",
        "colab_type": "text"
      },
      "source": [
        "Throughout the course of artificial intelligence, these models can be manipulated and customized as such to represents different types of neural networks. One such example, shown below, is the convnet (convolutional) neural network or CNN for short."
      ]
    },
    {
      "cell_type": "markdown",
      "metadata": {
        "id": "HvskQVrQ0tX8",
        "colab_type": "text"
      },
      "source": [
        "![alt text](https://miro.medium.com/max/1400/1*uAeANQIOQPqWZnnuH-VEyw.jpeg)"
      ]
    },
    {
      "cell_type": "markdown",
      "metadata": {
        "id": "wx27duFe1o0S",
        "colab_type": "text"
      },
      "source": [
        "The convolutional neural network is one of many models consisting of many layers and activation functions used for image processing and image recognition. It can be used to determine edge detection or create certain types of blurs. The most famous of which is VGG16, a convolutional neural network consisting of 16 layers."
      ]
    },
    {
      "cell_type": "markdown",
      "metadata": {
        "id": "ot6Zf6DN2951",
        "colab_type": "text"
      },
      "source": [
        "# Compiling the Model\n",
        "\n",
        "---\n",
        "\n"
      ]
    },
    {
      "cell_type": "markdown",
      "metadata": {
        "id": "VHMitK9O3WWp",
        "colab_type": "text"
      },
      "source": [
        "When compiling a model, in general, you define the loss function, optimizers and metrics that will be used throughout the model's lifecycle."
      ]
    },
    {
      "cell_type": "markdown",
      "metadata": {
        "id": "43-ZNuqH3e7g",
        "colab_type": "text"
      },
      "source": [
        "### Loss Functions"
      ]
    },
    {
      "cell_type": "markdown",
      "metadata": {
        "id": "YyuetTR63g9I",
        "colab_type": "text"
      },
      "source": [
        "There are many types of loss and error functions that can be used as your calculations for determining your gradient descent. For examples:\n",
        "\n",
        "\n",
        "\n",
        "1.   Mean Square Error\n",
        "2.   Quadratic Loss\n",
        "3.   L2 Loss\n",
        "4.   Mean Absolute Error\n",
        "5.   L1 Loss\n",
        "6.   Cross Entropy Loss\n",
        "7.   Binary Cross Entropy Loss\n"
      ]
    },
    {
      "cell_type": "markdown",
      "metadata": {
        "id": "DTiTJvj44nRa",
        "colab_type": "text"
      },
      "source": [
        "Depending on what type of relationship and activation function that is to be used throughout the model will determine what kind of loss should be used for best results."
      ]
    },
    {
      "cell_type": "markdown",
      "metadata": {
        "id": "5Iymxovj4xf8",
        "colab_type": "text"
      },
      "source": [
        "When dealing with linear regression, the loss function that is generally used is the L2 loss in conjunction with the mean square error function as shown:\n",
        "\n"
      ]
    },
    {
      "cell_type": "markdown",
      "metadata": {
        "id": "KD28JQcH5TPn",
        "colab_type": "text"
      },
      "source": [
        "\\begin{equation}\n",
        "(y-\\hat{y})^2 \\\\\n",
        "L_2\\ Loss\n",
        "\\end{equation}"
      ]
    },
    {
      "cell_type": "markdown",
      "metadata": {
        "id": "JeKHukBd7tdY",
        "colab_type": "text"
      },
      "source": [
        "\\begin{equation}\n",
        "\\mathrm{MSE}(w) = \\frac{1}{m} \\sum_{i=1}^m (y^{(i)} - \\hat{y}^{(i)})^2 \\\\\n",
        "Mean \\ Square \\  Error\n",
        "\\end{equation}"
      ]
    },
    {
      "cell_type": "markdown",
      "metadata": {
        "id": "OwbAPoQz6U50",
        "colab_type": "text"
      },
      "source": [
        "When dealing with logistic regression, it is better to use the binary cross entropy loss function as shown:"
      ]
    },
    {
      "cell_type": "markdown",
      "metadata": {
        "id": "09zbhHMt6bKB",
        "colab_type": "text"
      },
      "source": [
        "\\begin{equation}\n",
        "  \\mathcal{L}_\\mathrm{ce} = - y \\log a - (1-y) \\log(1-a) \\\\\n",
        "  Binary \\ Cross \\ Entropy\n",
        "\\end{equation}"
      ]
    },
    {
      "cell_type": "markdown",
      "metadata": {
        "id": "Q8aea5dM75o-",
        "colab_type": "text"
      },
      "source": [
        "### Optimizers"
      ]
    },
    {
      "cell_type": "markdown",
      "metadata": {
        "id": "SqqD4j3iHbxB",
        "colab_type": "text"
      },
      "source": [
        "When it comes to optimizations, there are many types that be choosen from:\n",
        "\n",
        "*   Stochastic Gradient Descent Optimizer\n",
        "*   RMSprop Optimizer\n",
        "*   Adagrad Optimizer\n",
        "*   Adadelta Optimizer\n",
        "*   Adam Optimizer\n",
        "\n",
        "And more. The purpose behind these optimizations is to help get that \"goldilocks\" learning rate effect when running gradient descent.\n",
        "\n"
      ]
    },
    {
      "cell_type": "markdown",
      "metadata": {
        "id": "U1BaNnmoIFTr",
        "colab_type": "text"
      },
      "source": [
        "### Learning Rate"
      ]
    },
    {
      "cell_type": "markdown",
      "metadata": {
        "id": "AKl8eGokIHhq",
        "colab_type": "text"
      },
      "source": [
        "The learning rate, also known as the step size, is a hyperparameter that the gradient descent algorithms rely on. It is a scalar that is multiplied by the gradient in order to determine the next point when perfrom the descension towards the minimum. Trying to determine the best learning rate is part of the optimization mentioned above, as too little of a rate will cause gradient descent to run too long find the minimum, whereas having too high of a rate by cause the algorithm to overshoot and miss the minimum."
      ]
    },
    {
      "cell_type": "markdown",
      "metadata": {
        "id": "0h0kisyUI1-Y",
        "colab_type": "text"
      },
      "source": [
        "### Keras Example"
      ]
    },
    {
      "cell_type": "code",
      "metadata": {
        "id": "s_PHSCuOI5yW",
        "colab_type": "code",
        "colab": {}
      },
      "source": [
        "model.compile(optimizer='rmsprop',\n",
        "              loss='binary_crossentropy',\n",
        "              metrics=['accuracy'])"
      ],
      "execution_count": 0,
      "outputs": []
    },
    {
      "cell_type": "markdown",
      "metadata": {
        "id": "KdSP9p0aJTio",
        "colab_type": "text"
      },
      "source": [
        "As one can see from the code above, it is very simple in keras to define the necessary compilations needed for your model. Once these parameters are entered, keras will handle the rest."
      ]
    },
    {
      "cell_type": "markdown",
      "metadata": {
        "id": "H__HBDY8JfmC",
        "colab_type": "text"
      },
      "source": [
        "# Training a Model\n",
        "\n",
        "---\n",
        "\n"
      ]
    },
    {
      "cell_type": "markdown",
      "metadata": {
        "id": "vMxSnayKMroC",
        "colab_type": "text"
      },
      "source": [
        "When a model undergoes \"fitting\", it is actually training itself, using the validation data tests and a combination of optimizers, gradient descent, activation functions, and loss functions in order to gradually find the \"perfect\" fit. "
      ]
    },
    {
      "cell_type": "markdown",
      "metadata": {
        "id": "167QZstmM7jw",
        "colab_type": "text"
      },
      "source": [
        "Essentialy, at the model trains, its edge weights begin to shift in such a way that allows for a mathematical function to occer that best represents the relationship. Once that \"perfect\" fit is found, the model is then ready to receive new inputs to predict accurate outputs."
      ]
    },
    {
      "cell_type": "markdown",
      "metadata": {
        "id": "1U2GDQs6Olaq",
        "colab_type": "text"
      },
      "source": [
        "There are times, however, where depending on the various factors, such as epochs, size of the data set, and complexity, may cause what is known as overfitting and underfitting, which eventually leads to unwanted results."
      ]
    },
    {
      "cell_type": "markdown",
      "metadata": {
        "id": "h_8Sx-GSPEn2",
        "colab_type": "text"
      },
      "source": [
        "### Overfitting"
      ]
    },
    {
      "cell_type": "markdown",
      "metadata": {
        "id": "6TVIqQ7gPG0s",
        "colab_type": "text"
      },
      "source": [
        "When there is too much training data, the model learns the training data too well. What this means, is that the model is bias towards the data it was used to train and learns the greater details and noise of said data. This causes inaccurate results when given new information to predict."
      ]
    },
    {
      "cell_type": "markdown",
      "metadata": {
        "id": "J9o7xFFsQwO1",
        "colab_type": "text"
      },
      "source": [
        "![alt text](https://i.imgur.com/QCBX28z.png) \\\\\n",
        "Credit to Taylor Richards for this graph"
      ]
    },
    {
      "cell_type": "markdown",
      "metadata": {
        "id": "aJ524m7zRIa4",
        "colab_type": "text"
      },
      "source": [
        "### Underfitting"
      ]
    },
    {
      "cell_type": "markdown",
      "metadata": {
        "id": "I8JskhUPRM9f",
        "colab_type": "text"
      },
      "source": [
        "When the training data is such that the model cannot generalize it, you get what is known as underfitting. Because of this, the model is deemed not suitable and performs poorly when fitting and also when given new data to predict."
      ]
    },
    {
      "cell_type": "markdown",
      "metadata": {
        "id": "Xz8YsL9_Rn-3",
        "colab_type": "text"
      },
      "source": [
        "![alt text](https://i.imgur.com/Yh9cspn.png) \\\\\n",
        "Credit to Taylor Richards for this graph"
      ]
    },
    {
      "cell_type": "markdown",
      "metadata": {
        "id": "DSEMSD_TRxaz",
        "colab_type": "text"
      },
      "source": [
        "### Keras Example"
      ]
    },
    {
      "cell_type": "code",
      "metadata": {
        "id": "lIJVY9jrRzHb",
        "colab_type": "code",
        "colab": {}
      },
      "source": [
        "model.fit(data, labels, epochs=100, batch_size=1)"
      ],
      "execution_count": 0,
      "outputs": []
    },
    {
      "cell_type": "markdown",
      "metadata": {
        "id": "inJjIxVxSRwi",
        "colab_type": "text"
      },
      "source": [
        "As shown above, Keras makes it easy to fit your model. You just only need to input the training data and its correspding lables. In addition, you will need to tell Keras how many epochs, or iterations, to perform."
      ]
    },
    {
      "cell_type": "markdown",
      "metadata": {
        "id": "TwKbmMDUSqXb",
        "colab_type": "text"
      },
      "source": [
        "# Finetuning a Pretrained Model\n",
        "\n",
        "---\n",
        "\n"
      ]
    },
    {
      "cell_type": "markdown",
      "metadata": {
        "id": "X2WXYVP8SvO5",
        "colab_type": "text"
      },
      "source": [
        "When working with machine learning, creating models from scratch can be a very tedious task proned to human errors. Keras, the open-source neural-network library, helps alleviate this task by having ready made pre-trained deep learning models for us to use."
      ]
    },
    {
      "cell_type": "markdown",
      "metadata": {
        "id": "_J3-F6gST05C",
        "colab_type": "text"
      },
      "source": [
        "By going to https://keras.io/applications/, you can view a list of pretrained models, such examples includes:\n",
        "\n",
        "\n",
        "*   Xception\n",
        "*   VGG16\n",
        "*   VGG19\n",
        "*   ResNet50\n",
        "\n",
        "And more. \n",
        "\n"
      ]
    },
    {
      "cell_type": "markdown",
      "metadata": {
        "id": "hXFGhpg_UUF1",
        "colab_type": "text"
      },
      "source": [
        "However, even though these models are pretrained, for some, based upon the type of data their working with or results their trying to obtain, they may prefer to configure them to fit their needs."
      ]
    },
    {
      "cell_type": "markdown",
      "metadata": {
        "id": "0DbfaQk2UsdA",
        "colab_type": "text"
      },
      "source": [
        "This is known as finetuning, where we may configure parts of the pretrained model such as its classifiers and frozen layers. One such example can be found in Dr. Wocjan's colab notebook on VGG16:\n",
        "\n",
        "[pretrained_convnet_finetuning notebook link](https://colab.research.google.com/drive/1F-RWvoxH8MmT7c1UmNy41iuOp-ejiLoF#scrollTo=lOWsxpey8lN0)"
      ]
    },
    {
      "cell_type": "markdown",
      "metadata": {
        "id": "QG2UlRRdV47P",
        "colab_type": "text"
      },
      "source": [
        "Shown below was taken from his notebook:"
      ]
    },
    {
      "cell_type": "code",
      "metadata": {
        "id": "4mftG3R5VtPi",
        "colab_type": "code",
        "colab": {
          "base_uri": "https://localhost:8080/",
          "height": 823
        },
        "outputId": "e524bca9-e9b3-4495-ae63-87405615da42"
      },
      "source": [
        "from keras.applications import VGG16\n",
        "conv_base = VGG16(weights='imagenet', \n",
        "                  include_top=False, \n",
        "                  input_shape=(150, 150, 3))\n",
        "conv_base.summary()"
      ],
      "execution_count": 38,
      "outputs": [
        {
          "output_type": "stream",
          "text": [
            "Downloading data from https://github.com/fchollet/deep-learning-models/releases/download/v0.1/vgg16_weights_tf_dim_ordering_tf_kernels_notop.h5\n",
            "58892288/58889256 [==============================] - 5s 0us/step\n",
            "Model: \"vgg16\"\n",
            "_________________________________________________________________\n",
            "Layer (type)                 Output Shape              Param #   \n",
            "=================================================================\n",
            "input_1 (InputLayer)         (None, 150, 150, 3)       0         \n",
            "_________________________________________________________________\n",
            "block1_conv1 (Conv2D)        (None, 150, 150, 64)      1792      \n",
            "_________________________________________________________________\n",
            "block1_conv2 (Conv2D)        (None, 150, 150, 64)      36928     \n",
            "_________________________________________________________________\n",
            "block1_pool (MaxPooling2D)   (None, 75, 75, 64)        0         \n",
            "_________________________________________________________________\n",
            "block2_conv1 (Conv2D)        (None, 75, 75, 128)       73856     \n",
            "_________________________________________________________________\n",
            "block2_conv2 (Conv2D)        (None, 75, 75, 128)       147584    \n",
            "_________________________________________________________________\n",
            "block2_pool (MaxPooling2D)   (None, 37, 37, 128)       0         \n",
            "_________________________________________________________________\n",
            "block3_conv1 (Conv2D)        (None, 37, 37, 256)       295168    \n",
            "_________________________________________________________________\n",
            "block3_conv2 (Conv2D)        (None, 37, 37, 256)       590080    \n",
            "_________________________________________________________________\n",
            "block3_conv3 (Conv2D)        (None, 37, 37, 256)       590080    \n",
            "_________________________________________________________________\n",
            "block3_pool (MaxPooling2D)   (None, 18, 18, 256)       0         \n",
            "_________________________________________________________________\n",
            "block4_conv1 (Conv2D)        (None, 18, 18, 512)       1180160   \n",
            "_________________________________________________________________\n",
            "block4_conv2 (Conv2D)        (None, 18, 18, 512)       2359808   \n",
            "_________________________________________________________________\n",
            "block4_conv3 (Conv2D)        (None, 18, 18, 512)       2359808   \n",
            "_________________________________________________________________\n",
            "block4_pool (MaxPooling2D)   (None, 9, 9, 512)         0         \n",
            "_________________________________________________________________\n",
            "block5_conv1 (Conv2D)        (None, 9, 9, 512)         2359808   \n",
            "_________________________________________________________________\n",
            "block5_conv2 (Conv2D)        (None, 9, 9, 512)         2359808   \n",
            "_________________________________________________________________\n",
            "block5_conv3 (Conv2D)        (None, 9, 9, 512)         2359808   \n",
            "_________________________________________________________________\n",
            "block5_pool (MaxPooling2D)   (None, 4, 4, 512)         0         \n",
            "=================================================================\n",
            "Total params: 14,714,688\n",
            "Trainable params: 14,714,688\n",
            "Non-trainable params: 0\n",
            "_________________________________________________________________\n"
          ],
          "name": "stdout"
        }
      ]
    },
    {
      "cell_type": "markdown",
      "metadata": {
        "id": "xI_s2--OWCuf",
        "colab_type": "text"
      },
      "source": [
        "To allow the pretrained model to be trainable, we must first set its attribute to true:"
      ]
    },
    {
      "cell_type": "code",
      "metadata": {
        "id": "qoEW0M1qWd-p",
        "colab_type": "code",
        "colab": {}
      },
      "source": [
        "conv_base.trainable = True\n",
        "\n",
        "set_trainable = False\n",
        "for layer in conv_base.layers:\n",
        "  if layer.name == 'block5_conv1':\n",
        "    set_trainable = True\n",
        "  if set_trainable:\n",
        "    layer.trainable = True\n",
        "  else:\n",
        "    layer.trainable = False"
      ],
      "execution_count": 0,
      "outputs": []
    },
    {
      "cell_type": "markdown",
      "metadata": {
        "id": "PrBh-JTcWiyf",
        "colab_type": "text"
      },
      "source": [
        "From here we can choose what layers we would want to freeze and unfreeze. In this example, the Conv block 5, which consists of many layers, are set to be trainable and from there all others after, where as the rest stays frozen."
      ]
    },
    {
      "cell_type": "code",
      "metadata": {
        "id": "eRuTuVfpXmto",
        "colab_type": "code",
        "colab": {}
      },
      "source": [
        "model.add(layers.Flatten())\n",
        "model.add(layers.Dense(256, activation='relu'))\n",
        "model.add(layers.Dense(1, activation='sigmoid'))"
      ],
      "execution_count": 0,
      "outputs": []
    },
    {
      "cell_type": "markdown",
      "metadata": {
        "id": "6zWW1yHGX6la",
        "colab_type": "text"
      },
      "source": [
        "Finally, the last few layers can be adjusted based upon your needs. For example, we can change the number of neurons within these layers if we prefer, as well as the activation functions. We may also decide to include a dropout layer to help prevent overfitting if needed."
      ]
    },
    {
      "cell_type": "markdown",
      "metadata": {
        "id": "cnox64CaXZmN",
        "colab_type": "text"
      },
      "source": [
        "As one can see, Keras makes it easy to not only use pretrained models, but to also configure them to your own needs."
      ]
    },
    {
      "cell_type": "markdown",
      "metadata": {
        "id": "Aizlu27NYuYR",
        "colab_type": "text"
      },
      "source": [
        "# Summary\n",
        "\n",
        "---\n",
        "\n"
      ]
    },
    {
      "cell_type": "markdown",
      "metadata": {
        "id": "Ks-8QoqKYwpW",
        "colab_type": "text"
      },
      "source": [
        "Throughout this course in Artificial Intelligence, we were introduced to the basics of A.I. Later on, we dived deeper into the branch of machine learning, being exposed to not only what machine learning is, but also the mathematical formulas associated with it. Through this, we learned how to create machine learning models from scratch using these functions, as well as, optimizing said models through the use of loss functions, gradient descents, learning rates, and handling scenarios where underfitting and overfitting may occur. Finally, we grew to appreciate the Keras library more as majority of these tasks can be simplified using the ready made functions and models provided by Keras themselves."
      ]
    }
  ]
}